{
 "cells": [
  {
   "cell_type": "code",
   "execution_count": 1,
   "id": "3caa34ff-16f3-4d64-a528-9435d03ac63b",
   "metadata": {},
   "outputs": [
    {
     "name": "stdout",
     "output_type": "stream",
     "text": [
      "Producer connected: True\n"
     ]
    }
   ],
   "source": [
    "import json\n",
    "import time\n",
    "import pandas as pd \n",
    "\n",
    "from kafka import KafkaProducer\n",
    "\n",
    "def json_serializer(data):\n",
    "    return json.dumps(data).encode('utf-8')\n",
    "\n",
    "server = 'localhost:9092'\n",
    "\n",
    "producer = KafkaProducer(\n",
    "    bootstrap_servers=[server],\n",
    "    value_serializer=json_serializer\n",
    ")\n",
    "\n",
    "producer.bootstrap_connected()\n",
    "# Check if the producer is connected\n",
    "connected = producer.bootstrap_connected()\n",
    "print(\"Producer connected:\", connected)"
   ]
  },
  {
   "cell_type": "code",
   "execution_count": 9,
   "id": "2e5b91e8-3953-4bb3-90fa-dbac0731a797",
   "metadata": {},
   "outputs": [
    {
     "name": "stderr",
     "output_type": "stream",
     "text": [
      "C:\\Users\\Jonah\\AppData\\Local\\Temp\\ipykernel_3872\\3116872628.py:1: DtypeWarning: Columns (3) have mixed types. Specify dtype option on import or set low_memory=False.\n",
      "  df_green = pd.read_csv('https://github.com/DataTalksClub/nyc-tlc-data/releases/download/green/green_tripdata_2019-10.csv.gz',\n"
     ]
    }
   ],
   "source": [
    "df_green = pd.read_csv('https://github.com/DataTalksClub/nyc-tlc-data/releases/download/green/green_tripdata_2019-10.csv.gz', \n",
    "                       compression='gzip')\n"
   ]
  },
  {
   "cell_type": "code",
   "execution_count": null,
   "id": "33c89db0-8c95-4ba6-adb7-bca8465b410d",
   "metadata": {},
   "outputs": [],
   "source": [
    "#df_green.head(5)"
   ]
  },
  {
   "cell_type": "code",
   "execution_count": 11,
   "id": "63bb74a2-46f6-4ccf-a31d-28b65a7d2357",
   "metadata": {
    "scrolled": true
   },
   "outputs": [
    {
     "name": "stdout",
     "output_type": "stream",
     "text": [
      "took -48.47 seconds\n"
     ]
    }
   ],
   "source": [
    "topic_name = 'green-trips'\n",
    "\n",
    "t0 = time.time()\n",
    "\n",
    "for row in df_green.itertuples(index=False):\n",
    "    row_dict = {col: getattr(row, col) for col in row._fields}\n",
    "    #print(row_dict)\n",
    "    \n",
    "    message = {\n",
    "        'lpep_pickup_datetime': row_dict['lpep_pickup_datetime'],\n",
    "        'lpep_dropoff_datetime': row_dict['lpep_dropoff_datetime'],\n",
    "        'PULocationID': row_dict['PULocationID'],\n",
    "        'DOLocationID': row_dict['DOLocationID'],\n",
    "        'passenger_count': row_dict['passenger_count'],\n",
    "        'trip_distance': row_dict['trip_distance'],\n",
    "        'tip_amount': row_dict['tip_amount']\n",
    "    }\n",
    "    producer.send(topic_name, value=message)\n",
    "    #print(f\"Sent: {message}\")\n",
    "    \n",
    "t1 = time.time()\n",
    "\n",
    "print(f'took {(t0 - t1):.2f} seconds')\n",
    "    "
   ]
  },
  {
   "cell_type": "code",
   "execution_count": null,
   "id": "b46a710d-d0ab-4cbe-b4bb-b03da0041080",
   "metadata": {},
   "outputs": [],
   "source": [
    "import pyspark\n",
    "pyspark.__file__"
   ]
  },
  {
   "cell_type": "code",
   "execution_count": 12,
   "id": "4b31a7e6-f062-4d10-a737-110af3c28969",
   "metadata": {},
   "outputs": [],
   "source": [
    "import pyspark\n",
    "from pyspark.sql import SparkSession\n",
    "\n",
    "pyspark_version = pyspark.__version__\n",
    "kafka_jar_package = f\"org.apache.spark:spark-sql-kafka-0-10_2.12:{pyspark_version}\"\n",
    "\n",
    "spark = SparkSession \\\n",
    "    .builder \\\n",
    "    .master(\"local[*]\") \\\n",
    "    .appName(\"GreenTripsConsumer\") \\\n",
    "    .config(\"spark.jars.packages\", kafka_jar_package) \\\n",
    "    .getOrCreate()\n"
   ]
  },
  {
   "cell_type": "code",
   "execution_count": 13,
   "id": "cfb2d7a0-090b-4e32-b98e-3453459d0670",
   "metadata": {},
   "outputs": [],
   "source": [
    "green_stream = spark \\\n",
    "    .readStream \\\n",
    "    .format(\"kafka\") \\\n",
    "    .option(\"kafka.bootstrap.servers\", \"localhost:9092\") \\\n",
    "    .option(\"subscribe\", \"green-trips\") \\\n",
    "    .option(\"startingOffsets\", \"earliest\") \\\n",
    "    .load()"
   ]
  },
  {
   "cell_type": "code",
   "execution_count": null,
   "id": "5008b797-7134-4e8d-b56b-544031d240b2",
   "metadata": {},
   "outputs": [],
   "source": [
    "green_stream.selectExpr(\"CAST(key AS STRING)\", \"CAST(value AS STRING)\")"
   ]
  },
  {
   "cell_type": "code",
   "execution_count": null,
   "id": "78133af7-5edf-4ea8-8fb6-1210c74775ac",
   "metadata": {},
   "outputs": [],
   "source": [
    "def peek(mini_batch, batch_id):\n",
    "    first_row = mini_batch.take(1)\n",
    "    \n",
    "    if first_row:\n",
    "        print(first_row[0]) \n",
    "        \n",
    "query = green_stream.writeStream.foreachBatch(peek).start()"
   ]
  },
  {
   "cell_type": "code",
   "execution_count": null,
   "id": "b7590555-0414-4660-8483-42147cd8973f",
   "metadata": {},
   "outputs": [],
   "source": [
    "query.stop()"
   ]
  },
  {
   "cell_type": "code",
   "execution_count": 14,
   "id": "2a26a93e-0974-46dd-8541-69964f8a83d0",
   "metadata": {},
   "outputs": [],
   "source": [
    "from pyspark.sql import types\n",
    "from pyspark.sql.functions import from_json, col\n",
    "from pyspark.sql.types import StructType, StringType, IntegerType, DoubleType\n",
    "\n",
    "schema = types.StructType() \\\n",
    "    .add(\"lpep_pickup_datetime\", types.StringType()) \\\n",
    "    .add(\"lpep_dropoff_datetime\", types.StringType()) \\\n",
    "    .add(\"PULocationID\", types.IntegerType()) \\\n",
    "    .add(\"DOLocationID\", types.IntegerType()) \\\n",
    "    .add(\"passenger_count\", types.DoubleType()) \\\n",
    "    .add(\"trip_distance\", types.DoubleType()) \\\n",
    "    .add(\"tip_amount\", types.DoubleType())"
   ]
  },
  {
   "cell_type": "code",
   "execution_count": 15,
   "id": "34e51906-8304-43e3-a08f-c6402cd137b9",
   "metadata": {},
   "outputs": [],
   "source": [
    "green_stream = green_stream \\\n",
    "  .select(from_json(col(\"value\").cast('STRING'), schema).alias(\"data\")) \\\n",
    "  .select(\"data.*\")"
   ]
  },
  {
   "cell_type": "code",
   "execution_count": null,
   "id": "d4f22954-9d3c-4350-adc2-6cc4b5c419dd",
   "metadata": {},
   "outputs": [],
   "source": [
    "query = green_stream \\\n",
    "    .writeStream \\\n",
    "    .format(\"console\") \\\n",
    "    .start() \\\n",
    "\n",
    "query.awaitTermination(5000)"
   ]
  },
  {
   "cell_type": "code",
   "execution_count": null,
   "id": "1fafd1aa-5694-4cde-9092-000d2f7d75ad",
   "metadata": {},
   "outputs": [],
   "source": [
    "from pyspark.sql.functions import current_timestamp, window\n",
    "\n",
    "# Add a timestamp column to the DataFrame\n",
    "green_stream_with_timestamp = green_stream.withColumn(\"timestamp\", current_timestamp())\n",
    "\n",
    "# Perform the rest of the operations (group by, count, order by)\n",
    "popular_destinations = green_stream_with_timestamp \\\n",
    "    .groupBy(\n",
    "        window(col(\"timestamp\"), \"5 minutes\"),\n",
    "        col(\"DOLocationID\")\n",
    "    ) \\\n",
    "    .count() \\\n",
    "    .orderBy(\"count\", ascending=False)\n",
    "\n",
    "# Write the results to the console\n",
    "query = popular_destinations \\\n",
    "    .writeStream \\\n",
    "    .outputMode(\"complete\") \\\n",
    "    .format(\"console\") \\\n",
    "    .option(\"truncate\", \"false\") \\\n",
    "    .start()\n",
    "\n",
    "# Wait for the streaming query to finish\n",
    "query.awaitTermination(5000)"
   ]
  },
  {
   "cell_type": "code",
   "execution_count": null,
   "id": "ed8fcc02-0b9b-4692-ab4a-0914f1637341",
   "metadata": {},
   "outputs": [],
   "source": []
  }
 ],
 "metadata": {
  "kernelspec": {
   "display_name": "Python 3 (ipykernel)",
   "language": "python",
   "name": "python3"
  },
  "language_info": {
   "codemirror_mode": {
    "name": "ipython",
    "version": 3
   },
   "file_extension": ".py",
   "mimetype": "text/x-python",
   "name": "python",
   "nbconvert_exporter": "python",
   "pygments_lexer": "ipython3",
   "version": "3.11.0"
  }
 },
 "nbformat": 4,
 "nbformat_minor": 5
}
