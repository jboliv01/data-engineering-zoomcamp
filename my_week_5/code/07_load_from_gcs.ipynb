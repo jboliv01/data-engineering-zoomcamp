{
 "cells": [
  {
   "cell_type": "code",
   "execution_count": 1,
   "id": "7643aa2f-6871-45c4-9250-f9e50ca3141e",
   "metadata": {},
   "outputs": [],
   "source": [
    "from pyspark.sql import SparkSession"
   ]
  },
  {
   "cell_type": "code",
   "execution_count": 2,
   "id": "0cf82e1b-25b5-4496-86a9-ad4a1e27f3cc",
   "metadata": {},
   "outputs": [
    {
     "name": "stderr",
     "output_type": "stream",
     "text": [
      "Setting default log level to \"WARN\".\n",
      "To adjust logging level use sc.setLogLevel(newLevel). For SparkR, use setLogLevel(newLevel).\n",
      "24/03/05 02:37:19 WARN NativeCodeLoader: Unable to load native-hadoop library for your platform... using builtin-java classes where applicable\n",
      "24/03/05 02:37:20 WARN Utils: Service 'SparkUI' could not bind on port 4040. Attempting port 4041.\n"
     ]
    }
   ],
   "source": [
    "spark = SparkSession.builder \\\n",
    "    .appName(\"Read and Write Parquet to GCS\") \\\n",
    "    .getOrCreate()\n",
    "\n",
    "spark._jsc.hadoopConfiguration().set(\"google.cloud.auth.service.account.json.keyfile\",\"dtc-de-zoomcamp-410523-29fcc5b444c6.json\")"
   ]
  },
  {
   "cell_type": "code",
   "execution_count": 3,
   "id": "9d5cc07c-27ce-4d09-93af-8cfd2ac32adf",
   "metadata": {},
   "outputs": [
    {
     "name": "stderr",
     "output_type": "stream",
     "text": [
      "                                                                                \r"
     ]
    }
   ],
   "source": [
    "# Specify the path to the Parquet files in GCS\n",
    "bucket_name=\"mage-zoomcamp-jonah-oliver\"\n",
    "path=f\"gs://{bucket_name}/ny_taxi_data/service=green/year=2019/*\"\n",
    "\n",
    "df=spark.read.parquet(path)"
   ]
  },
  {
   "cell_type": "code",
   "execution_count": 51,
   "id": "be295dd5-48fb-4069-9778-33fe6d9748dd",
   "metadata": {
    "scrolled": true
   },
   "outputs": [
    {
     "name": "stderr",
     "output_type": "stream",
     "text": [
      "[Stage 111:>                                                        (0 + 1) / 1]\r"
     ]
    },
    {
     "name": "stdout",
     "output_type": "stream",
     "text": [
      "+--------+--------------------+---------------------+------------------+----------+------------+------------+---------------+-------------+-----------+-----+-------+----------+------------+---------+---------------------+------------+------------+---------+--------------------+\n",
      "|VendorID|lpep_pickup_datetime|lpep_dropoff_datetime|store_and_fwd_flag|RatecodeID|PULocationID|DOLocationID|passenger_count|trip_distance|fare_amount|extra|mta_tax|tip_amount|tolls_amount|ehail_fee|improvement_surcharge|total_amount|payment_type|trip_type|congestion_surcharge|\n",
      "+--------+--------------------+---------------------+------------------+----------+------------+------------+---------------+-------------+-----------+-----+-------+----------+------------+---------+---------------------+------------+------------+---------+--------------------+\n",
      "|       2| 2018-12-21 15:17:29|  2018-12-21 15:18:57|                 N|         1|         264|         264|              5|          0.0|        3.0|  0.5|    0.5|       0.0|         0.0|     NULL|                  0.3|         4.3|           2|        1|                NULL|\n",
      "|       2| 2019-01-01 00:10:16|  2019-01-01 00:16:32|                 N|         1|          97|          49|              2|         0.86|        6.0|  0.5|    0.5|       0.0|         0.0|     NULL|                  0.3|         7.3|           2|        1|                NULL|\n",
      "|       2| 2019-01-01 00:27:11|  2019-01-01 00:31:38|                 N|         1|          49|         189|              2|         0.66|        4.5|  0.5|    0.5|       0.0|         0.0|     NULL|                  0.3|         5.8|           1|        1|                NULL|\n",
      "|       2| 2019-01-01 00:46:20|  2019-01-01 01:04:54|                 N|         1|         189|          17|              2|         2.68|       13.5|  0.5|    0.5|      2.96|         0.0|     NULL|                  0.3|       19.71|           1|        1|                NULL|\n",
      "|       2| 2019-01-01 00:19:06|  2019-01-01 00:39:43|                 N|         1|          82|         258|              1|         4.53|       18.0|  0.5|    0.5|       0.0|         0.0|     NULL|                  0.3|        19.3|           2|        1|                NULL|\n",
      "|       2| 2019-01-01 00:12:35|  2019-01-01 00:19:09|                 N|         1|          49|          17|              1|         1.05|        6.5|  0.5|    0.5|       0.0|         0.0|     NULL|                  0.3|         7.8|           1|        1|                NULL|\n",
      "|       2| 2019-01-01 00:47:55|  2019-01-01 01:00:01|                 N|         1|         255|          33|              1|         3.77|       13.5|  0.5|    0.5|       0.0|         0.0|     NULL|                  0.3|        14.8|           1|        1|                NULL|\n",
      "|       1| 2019-01-01 00:12:47|  2019-01-01 00:30:50|                 N|         1|          76|         225|              1|          4.1|       16.0|  0.5|    0.5|       0.0|         0.0|     NULL|                  0.3|        17.3|           1|        1|                NULL|\n",
      "|       2| 2019-01-01 00:16:23|  2019-01-01 00:39:46|                 N|         1|          25|          89|              1|         7.75|       25.5|  0.5|    0.5|       0.0|         0.0|     NULL|                  0.3|        26.8|           1|        1|                NULL|\n",
      "|       2| 2019-01-01 00:58:02|  2019-01-01 01:19:02|                 N|         1|          85|          39|              1|         3.68|       15.5|  0.5|    0.5|       0.0|         0.0|     NULL|                  0.3|        16.8|           1|        1|                NULL|\n",
      "|       2| 2019-01-01 00:37:00|  2019-01-01 00:56:42|                 N|         1|         223|         238|              1|         6.84|       22.0|  0.5|    0.5|       8.0|        5.76|     NULL|                  0.3|       37.06|           1|        1|                NULL|\n",
      "|       2| 2019-01-01 00:13:48|  2019-01-01 00:21:00|                 N|         1|         129|         129|              2|         1.15|        6.5|  0.5|    0.5|      1.56|         0.0|     NULL|                  0.3|        9.36|           1|        1|                NULL|\n",
      "|       2| 2019-01-01 00:19:59|  2019-01-01 00:45:50|                 N|         1|          71|          71|              1|         0.49|       15.5|  0.5|    0.5|       0.0|         0.0|     NULL|                  0.3|        16.8|           1|        1|                NULL|\n",
      "|       2| 2019-01-01 00:57:57|  2019-01-01 01:20:10|                 N|         1|          85|         177|              1|         3.61|       17.0|  0.5|    0.5|       0.0|         0.0|     NULL|                  0.3|        18.3|           1|        1|                NULL|\n",
      "|       1| 2019-01-01 00:09:02|  2019-01-01 00:17:50|                 N|         1|         256|          80|              1|          1.2|        7.5|  0.5|    0.5|       5.2|         0.0|     NULL|                  0.3|        14.0|           1|        1|                NULL|\n",
      "|       1| 2019-01-01 00:22:12|  2019-01-01 00:25:29|                 N|         1|          80|          80|              1|          0.5|        4.0|  0.5|    0.5|       0.0|         0.0|     NULL|                  0.3|         5.3|           2|        1|                NULL|\n",
      "|       1| 2019-01-01 00:31:55|  2019-01-01 00:52:59|                 N|         1|         256|         229|              1|          5.5|       19.5|  0.5|    0.5|      4.15|         0.0|     NULL|                  0.3|       24.95|           1|        1|                NULL|\n",
      "|       2| 2019-01-01 00:30:20|  2019-01-01 00:54:19|                 N|         1|         255|         231|              1|         5.01|       20.0|  0.5|    0.5|      4.26|         0.0|     NULL|                  0.3|       25.56|           1|        1|                NULL|\n",
      "|       2| 2018-12-31 23:58:06|  2019-01-01 00:00:57|                 N|         1|         146|           7|              1|         0.43|        4.0|  0.5|    0.5|      1.06|         0.0|     NULL|                  0.3|        6.36|           1|        1|                NULL|\n",
      "|       2| 2019-01-01 00:40:17|  2019-01-01 00:50:23|                 N|         1|         146|         129|              1|         2.72|       10.5|  0.5|    0.5|      2.36|         0.0|     NULL|                  0.3|       14.16|           1|        1|                NULL|\n",
      "+--------+--------------------+---------------------+------------------+----------+------------+------------+---------------+-------------+-----------+-----+-------+----------+------------+---------+---------------------+------------+------------+---------+--------------------+\n",
      "only showing top 20 rows\n",
      "\n"
     ]
    },
    {
     "name": "stderr",
     "output_type": "stream",
     "text": [
      "                                                                                \r"
     ]
    }
   ],
   "source": [
    "# Show the DataFrame\n",
    "df.show()"
   ]
  },
  {
   "cell_type": "code",
   "execution_count": 26,
   "id": "bcd447af-5b19-4749-9db2-4f4e59a767c1",
   "metadata": {},
   "outputs": [],
   "source": [
    "df.registerTempTable('green')\n"
   ]
  },
  {
   "cell_type": "code",
   "execution_count": 18,
   "id": "4ca15371-2147-4fe5-9864-128d0507b0cb",
   "metadata": {},
   "outputs": [],
   "source": [
    "df_green_revenue = spark.sql(\"\"\"\n",
    "SELECT \n",
    "    date_trunc('hour', lpep_pickup_datetime) AS hour, \n",
    "    PULocationID AS zone,\n",
    "\n",
    "    SUM(total_amount) AS amount,\n",
    "    COUNT(1) AS number_records\n",
    "FROM\n",
    "    green\n",
    "WHERE\n",
    "    lpep_pickup_datetime >= '2019-01-01 00:00:00'\n",
    "GROUP BY\n",
    "    1, 2\n",
    "ORDER BY \n",
    "    1, 2\n",
    "\"\"\")"
   ]
  },
  {
   "cell_type": "code",
   "execution_count": 28,
   "id": "78174ded-a210-46f5-899c-3ac5e0e1048d",
   "metadata": {},
   "outputs": [
    {
     "name": "stderr",
     "output_type": "stream",
     "text": [
      "                                                                                \r"
     ]
    }
   ],
   "source": [
    "path=f\"gs://{bucket_name}/ny_taxi_data/service=yellow/year=2019/*\"\n",
    "\n",
    "df=spark.read.parquet(path)"
   ]
  },
  {
   "cell_type": "code",
   "execution_count": 30,
   "id": "af864a37-467c-4338-a0e2-bcb590539cd3",
   "metadata": {},
   "outputs": [],
   "source": [
    "df.registerTempTable('yellow')"
   ]
  },
  {
   "cell_type": "code",
   "execution_count": 31,
   "id": "ce2e7f64-f140-4a52-8b4e-8ce2879991d1",
   "metadata": {},
   "outputs": [],
   "source": [
    "df_yellow_revenue = spark.sql(\"\"\"\n",
    "SELECT \n",
    "    date_trunc('hour', tpep_pickup_datetime) AS hour, \n",
    "    PULocationID AS zone,\n",
    "\n",
    "    SUM(total_amount) AS amount,\n",
    "    COUNT(1) AS number_records\n",
    "FROM\n",
    "    yellow\n",
    "WHERE\n",
    "    tpep_pickup_datetime >= '2020-01-01 00:00:00'\n",
    "GROUP BY\n",
    "    1, 2\n",
    "\"\"\")"
   ]
  },
  {
   "cell_type": "code",
   "execution_count": 32,
   "id": "50661c81-c5bf-4f35-95ff-ec1b386614ae",
   "metadata": {},
   "outputs": [
    {
     "name": "stderr",
     "output_type": "stream",
     "text": [
      "[Stage 22:===================================================>    (12 + 1) / 13]\r"
     ]
    },
    {
     "name": "stdout",
     "output_type": "stream",
     "text": [
      "+-------------------+----+------+--------------+\n",
      "|               hour|zone|amount|number_records|\n",
      "+-------------------+----+------+--------------+\n",
      "|2088-01-24 00:00:00|  24|  15.3|             1|\n",
      "|2088-01-24 00:00:00|  41|   5.3|             1|\n",
      "|2041-03-25 01:00:00| 151|  15.8|             1|\n",
      "|2033-04-27 12:00:00| 107|   7.3|             1|\n",
      "|2033-04-27 13:00:00| 263|   8.3|             1|\n",
      "|2033-04-27 12:00:00| 229|  10.8|             1|\n",
      "|2020-01-03 03:00:00|  97|  9.75|             1|\n",
      "|2020-01-02 04:00:00| 100| 33.96|             1|\n",
      "|2020-02-28 17:00:00| 237| 21.36|             1|\n",
      "|2020-01-15 17:00:00| 233| 11.33|             1|\n",
      "|2020-01-24 07:00:00| 164| 23.16|             1|\n",
      "|2020-01-02 00:00:00| 163| 17.25|             1|\n",
      "|2020-02-07 09:00:00| 233| 32.76|             1|\n",
      "|2020-01-15 17:00:00| 263| 11.84|             1|\n",
      "|2020-02-06 01:00:00| 263|  34.3|             1|\n",
      "|2020-01-02 01:00:00| 164|   8.8|             1|\n",
      "|2020-01-02 22:00:00| 158| 14.16|             1|\n",
      "|2020-01-24 07:00:00| 162| 12.96|             1|\n",
      "|2020-01-02 23:00:00| 186| 15.36|             1|\n",
      "|2020-01-17 01:00:00| 186| 27.36|             1|\n",
      "+-------------------+----+------+--------------+\n",
      "only showing top 20 rows\n",
      "\n"
     ]
    },
    {
     "name": "stderr",
     "output_type": "stream",
     "text": [
      "                                                                                \r"
     ]
    }
   ],
   "source": [
    "df_yellow_revenue.show()"
   ]
  },
  {
   "cell_type": "code",
   "execution_count": 33,
   "id": "34f81e3f-ac2f-4dee-9e41-a9aaa9aefed5",
   "metadata": {},
   "outputs": [
    {
     "name": "stderr",
     "output_type": "stream",
     "text": [
      "[Stage 25:==============================================>           (4 + 1) / 5]\r"
     ]
    },
    {
     "name": "stdout",
     "output_type": "stream",
     "text": [
      "+-------------------+----+------------------+--------------+\n",
      "|               hour|zone|            amount|number_records|\n",
      "+-------------------+----+------------------+--------------+\n",
      "|2019-01-01 00:00:00|   3|             90.02|             2|\n",
      "|2019-01-01 00:00:00|   7| 847.5499999999994|            68|\n",
      "|2019-01-01 00:00:00|  11|              10.3|             1|\n",
      "|2019-01-01 00:00:00|  14| 77.39999999999999|             3|\n",
      "|2019-01-01 00:00:00|  16|50.599999999999994|             2|\n",
      "|2019-01-01 00:00:00|  17|170.85000000000002|            10|\n",
      "|2019-01-01 00:00:00|  18|             75.71|             3|\n",
      "|2019-01-01 00:00:00|  20|             47.55|             1|\n",
      "|2019-01-01 00:00:00|  24|              75.5|             6|\n",
      "|2019-01-01 00:00:00|  25|1161.3399999999995|            48|\n",
      "|2019-01-01 00:00:00|  26|              21.3|             1|\n",
      "|2019-01-01 00:00:00|  28|             21.51|             1|\n",
      "|2019-01-01 00:00:00|  29|              22.1|             2|\n",
      "|2019-01-01 00:00:00|  31|              14.8|             1|\n",
      "|2019-01-01 00:00:00|  32|               7.8|             1|\n",
      "|2019-01-01 00:00:00|  33| 551.1400000000001|            25|\n",
      "|2019-01-01 00:00:00|  35|62.900000000000006|             3|\n",
      "|2019-01-01 00:00:00|  36|             81.66|             3|\n",
      "|2019-01-01 00:00:00|  37|            122.25|             6|\n",
      "|2019-01-01 00:00:00|  39|             82.36|             2|\n",
      "+-------------------+----+------------------+--------------+\n",
      "only showing top 20 rows\n",
      "\n"
     ]
    },
    {
     "name": "stderr",
     "output_type": "stream",
     "text": [
      "                                                                                \r"
     ]
    }
   ],
   "source": [
    "df_green_revenue.show()"
   ]
  },
  {
   "cell_type": "code",
   "execution_count": 45,
   "id": "37dd9d82-b4d0-4d2b-b006-6176f76bd424",
   "metadata": {},
   "outputs": [],
   "source": [
    "df_green_revenue_tmp = df_green_revenue \\\n",
    "    .withColumnRenamed('amount', 'green_amount') \\\n",
    "    .withColumnRenamed('number_records', 'green_number_records')\n",
    "\n",
    "df_yellow_revenue_tmp = df_yellow_revenue \\\n",
    "    .withColumnRenamed('amount', 'yellow_amount') \\\n",
    "    .withColumnRenamed('number_records', 'yellow_number_records')"
   ]
  },
  {
   "cell_type": "code",
   "execution_count": 48,
   "id": "3881c94f-d31d-4e63-b597-635d6b4ea0d0",
   "metadata": {
    "scrolled": true
   },
   "outputs": [
    {
     "name": "stderr",
     "output_type": "stream",
     "text": [
      "                                                                                \r"
     ]
    }
   ],
   "source": [
    "bucket_name=\"mage-zoomcamp-jonah-oliver\"\n",
    "path=f\"gs://{bucket_name}/ny_taxi_data/service=green/year=2019/report/revenue/\"\n",
    "\n",
    "df_green_revenue_tmp \\\n",
    "    .repartition(20) \\\n",
    "    .write.parquet(path, mode='overwrite')"
   ]
  },
  {
   "cell_type": "code",
   "execution_count": 35,
   "id": "463013b0-9ab8-4988-b8b1-1cb4e8dca4b9",
   "metadata": {},
   "outputs": [],
   "source": [
    "df_join = df_green_revenue_tmp.join(df_yellow_revenue_tmp, on=['hour', 'zone'], how='outer')"
   ]
  },
  {
   "cell_type": "code",
   "execution_count": null,
   "id": "2c239c42-03c5-4d80-b338-bcda9d10eb09",
   "metadata": {},
   "outputs": [],
   "source": []
  }
 ],
 "metadata": {
  "kernelspec": {
   "display_name": "Python 3 (ipykernel)",
   "language": "python",
   "name": "python3"
  },
  "language_info": {
   "codemirror_mode": {
    "name": "ipython",
    "version": 3
   },
   "file_extension": ".py",
   "mimetype": "text/x-python",
   "name": "python",
   "nbconvert_exporter": "python",
   "pygments_lexer": "ipython3",
   "version": "3.8.18"
  }
 },
 "nbformat": 4,
 "nbformat_minor": 5
}
