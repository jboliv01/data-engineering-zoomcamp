{
 "cells": [
  {
   "cell_type": "code",
   "execution_count": 1,
   "id": "a1cc9c02-0e97-4918-93df-8a6b2218a5fc",
   "metadata": {},
   "outputs": [],
   "source": [
    "import pandas as pd\n",
    "import pyarrow.parquet as pq"
   ]
  },
  {
   "cell_type": "code",
   "execution_count": 8,
   "id": "291260ac-d348-4bb7-9677-3aafe1774dea",
   "metadata": {},
   "outputs": [
    {
     "data": {
      "text/plain": [
       "'2.1.1'"
      ]
     },
     "execution_count": 8,
     "metadata": {},
     "output_type": "execute_result"
    }
   ],
   "source": [
    "pd.__version__"
   ]
  },
  {
   "cell_type": "code",
   "execution_count": 10,
   "id": "0867b0e6-ac58-4699-b7bc-2971721ffef8",
   "metadata": {},
   "outputs": [],
   "source": [
    "df = pq.read_table('yellow_tripdata_2023-01.parquet')\n",
    "trips = df.to_pandas()"
   ]
  },
  {
   "cell_type": "code",
   "execution_count": 18,
   "id": "b395de3d-b84b-47bc-835c-60f5a660f776",
   "metadata": {},
   "outputs": [
    {
     "name": "stdout",
     "output_type": "stream",
     "text": [
      "<class 'pandas.core.frame.DataFrame'>\n",
      "RangeIndex: 3066766 entries, 0 to 3066765\n",
      "Data columns (total 19 columns):\n",
      " #   Column                 Dtype         \n",
      "---  ------                 -----         \n",
      " 0   VendorID               int64         \n",
      " 1   tpep_pickup_datetime   datetime64[us]\n",
      " 2   tpep_dropoff_datetime  datetime64[us]\n",
      " 3   passenger_count        float64       \n",
      " 4   trip_distance          float64       \n",
      " 5   RatecodeID             float64       \n",
      " 6   store_and_fwd_flag     object        \n",
      " 7   PULocationID           int64         \n",
      " 8   DOLocationID           int64         \n",
      " 9   payment_type           int64         \n",
      " 10  fare_amount            float64       \n",
      " 11  extra                  float64       \n",
      " 12  mta_tax                float64       \n",
      " 13  tip_amount             float64       \n",
      " 14  tolls_amount           float64       \n",
      " 15  improvement_surcharge  float64       \n",
      " 16  total_amount           float64       \n",
      " 17  congestion_surcharge   float64       \n",
      " 18  airport_fee            float64       \n",
      "dtypes: datetime64[us](2), float64(12), int64(4), object(1)\n",
      "memory usage: 444.6+ MB\n",
      "None\n"
     ]
    }
   ],
   "source": [
    "print(trips.info())"
   ]
  },
  {
   "cell_type": "code",
   "execution_count": 19,
   "id": "41d12406-fa38-4fb8-83a0-a86ee9c219dd",
   "metadata": {},
   "outputs": [
    {
     "name": "stdout",
     "output_type": "stream",
     "text": [
      "<bound method NDFrame.head of          VendorID tpep_pickup_datetime tpep_dropoff_datetime  passenger_count  \\\n",
      "0               2  2023-01-01 00:32:10   2023-01-01 00:40:36              1.0   \n",
      "1               2  2023-01-01 00:55:08   2023-01-01 01:01:27              1.0   \n",
      "2               2  2023-01-01 00:25:04   2023-01-01 00:37:49              1.0   \n",
      "3               1  2023-01-01 00:03:48   2023-01-01 00:13:25              0.0   \n",
      "4               2  2023-01-01 00:10:29   2023-01-01 00:21:19              1.0   \n",
      "...           ...                  ...                   ...              ...   \n",
      "3066761         2  2023-01-31 23:58:34   2023-02-01 00:12:33              NaN   \n",
      "3066762         2  2023-01-31 23:31:09   2023-01-31 23:50:36              NaN   \n",
      "3066763         2  2023-01-31 23:01:05   2023-01-31 23:25:36              NaN   \n",
      "3066764         2  2023-01-31 23:40:00   2023-01-31 23:53:00              NaN   \n",
      "3066765         2  2023-01-31 23:07:32   2023-01-31 23:21:56              NaN   \n",
      "\n",
      "         trip_distance  RatecodeID store_and_fwd_flag  PULocationID  \\\n",
      "0                 0.97         1.0                  N           161   \n",
      "1                 1.10         1.0                  N            43   \n",
      "2                 2.51         1.0                  N            48   \n",
      "3                 1.90         1.0                  N           138   \n",
      "4                 1.43         1.0                  N           107   \n",
      "...                ...         ...                ...           ...   \n",
      "3066761           3.05         NaN               None           107   \n",
      "3066762           5.80         NaN               None           112   \n",
      "3066763           4.67         NaN               None           114   \n",
      "3066764           3.15         NaN               None           230   \n",
      "3066765           2.85         NaN               None           262   \n",
      "\n",
      "         DOLocationID  payment_type  fare_amount  extra  mta_tax  tip_amount  \\\n",
      "0                 141             2         9.30   1.00      0.5        0.00   \n",
      "1                 237             1         7.90   1.00      0.5        4.00   \n",
      "2                 238             1        14.90   1.00      0.5       15.00   \n",
      "3                   7             1        12.10   7.25      0.5        0.00   \n",
      "4                  79             1        11.40   1.00      0.5        3.28   \n",
      "...               ...           ...          ...    ...      ...         ...   \n",
      "3066761            48             0        15.80   0.00      0.5        3.96   \n",
      "3066762            75             0        22.43   0.00      0.5        2.64   \n",
      "3066763           239             0        17.61   0.00      0.5        5.32   \n",
      "3066764            79             0        18.15   0.00      0.5        4.43   \n",
      "3066765           143             0        15.97   0.00      0.5        2.00   \n",
      "\n",
      "         tolls_amount  improvement_surcharge  total_amount  \\\n",
      "0                 0.0                    1.0         14.30   \n",
      "1                 0.0                    1.0         16.90   \n",
      "2                 0.0                    1.0         34.90   \n",
      "3                 0.0                    1.0         20.85   \n",
      "4                 0.0                    1.0         19.68   \n",
      "...               ...                    ...           ...   \n",
      "3066761           0.0                    1.0         23.76   \n",
      "3066762           0.0                    1.0         29.07   \n",
      "3066763           0.0                    1.0         26.93   \n",
      "3066764           0.0                    1.0         26.58   \n",
      "3066765           0.0                    1.0         21.97   \n",
      "\n",
      "         congestion_surcharge  airport_fee  \n",
      "0                         2.5         0.00  \n",
      "1                         2.5         0.00  \n",
      "2                         2.5         0.00  \n",
      "3                         0.0         1.25  \n",
      "4                         2.5         0.00  \n",
      "...                       ...          ...  \n",
      "3066761                   NaN          NaN  \n",
      "3066762                   NaN          NaN  \n",
      "3066763                   NaN          NaN  \n",
      "3066764                   NaN          NaN  \n",
      "3066765                   NaN          NaN  \n",
      "\n",
      "[3066766 rows x 19 columns]>\n"
     ]
    }
   ],
   "source": [
    "print(trips.head)"
   ]
  },
  {
   "cell_type": "code",
   "execution_count": 20,
   "id": "0bdf3505-e0a6-4444-b0d9-aa0c976850d7",
   "metadata": {},
   "outputs": [
    {
     "name": "stdout",
     "output_type": "stream",
     "text": [
      "0          14.30\n",
      "1          16.90\n",
      "2          34.90\n",
      "3          20.85\n",
      "4          19.68\n",
      "           ...  \n",
      "3066761    23.76\n",
      "3066762    29.07\n",
      "3066763    26.93\n",
      "3066764    26.58\n",
      "3066765    21.97\n",
      "Name: total_amount, Length: 3066766, dtype: float64\n"
     ]
    }
   ],
   "source": [
    "print(trips.total_amount)"
   ]
  },
  {
   "cell_type": "code",
   "execution_count": 21,
   "id": "1ff07040-cbea-4f12-951a-997877b1cf8f",
   "metadata": {},
   "outputs": [
    {
     "name": "stdout",
     "output_type": "stream",
     "text": [
      "CREATE TABLE \"yellow_taxi_data\" (\n",
      "\"VendorID\" INTEGER,\n",
      "  \"tpep_pickup_datetime\" TIMESTAMP,\n",
      "  \"tpep_dropoff_datetime\" TIMESTAMP,\n",
      "  \"passenger_count\" REAL,\n",
      "  \"trip_distance\" REAL,\n",
      "  \"RatecodeID\" REAL,\n",
      "  \"store_and_fwd_flag\" TEXT,\n",
      "  \"PULocationID\" INTEGER,\n",
      "  \"DOLocationID\" INTEGER,\n",
      "  \"payment_type\" INTEGER,\n",
      "  \"fare_amount\" REAL,\n",
      "  \"extra\" REAL,\n",
      "  \"mta_tax\" REAL,\n",
      "  \"tip_amount\" REAL,\n",
      "  \"tolls_amount\" REAL,\n",
      "  \"improvement_surcharge\" REAL,\n",
      "  \"total_amount\" REAL,\n",
      "  \"congestion_surcharge\" REAL,\n",
      "  \"airport_fee\" REAL\n",
      ")\n"
     ]
    }
   ],
   "source": [
    "print(pd.io.sql.get_schema(trips, name='yellow_taxi_data'))"
   ]
  },
  {
   "cell_type": "code",
   "execution_count": null,
   "id": "b9b419b5-1e75-4596-bc90-4fe2f2ce2e1a",
   "metadata": {},
   "outputs": [],
   "source": []
  }
 ],
 "metadata": {
  "kernelspec": {
   "display_name": "Python 3 (ipykernel)",
   "language": "python",
   "name": "python3"
  },
  "language_info": {
   "codemirror_mode": {
    "name": "ipython",
    "version": 3
   },
   "file_extension": ".py",
   "mimetype": "text/x-python",
   "name": "python",
   "nbconvert_exporter": "python",
   "pygments_lexer": "ipython3",
   "version": "3.11.0"
  }
 },
 "nbformat": 4,
 "nbformat_minor": 5
}
